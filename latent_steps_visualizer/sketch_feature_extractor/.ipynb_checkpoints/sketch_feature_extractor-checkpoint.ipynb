{
 "cells": [
  {
   "cell_type": "code",
   "execution_count": 2,
   "metadata": {},
   "outputs": [],
   "source": [
    "import os, sys, glob\n",
    "import cv2\n",
    "import numpy as np\n",
    "import matplotlib.pyplot as plt\n",
    "from pdf2image import convert_from_path\n",
    "from image_processing_tools import *\n",
    "import imageio\n",
    "import imgaug as ia\n",
    "%matplotlib inline\n",
    "\n",
    "def append_id(filename, i):\n",
    "    return \"{0}_{2}.{1}\".format(*filename.rsplit('.', 1) + [i])"
   ]
  },
  {
   "cell_type": "markdown",
   "metadata": {},
   "source": [
    "### Extract Images from PDF Library"
   ]
  },
  {
   "cell_type": "code",
   "execution_count": null,
   "metadata": {},
   "outputs": [],
   "source": [
    "excluded = [\".ipynb_checkpoints\", \"unprocessed\"]\n",
    "extraction_progress = 1\n",
    "make_png = False\n",
    "names = []\n",
    "for path, subdirs, files, in os.walk(pdf_directory):\n",
    "    for file in files:\n",
    "        try:\n",
    "            names.append(file.split('.')[0])\n",
    "            file_path = os.path.join(path,file)\n",
    "            new_performer_data(base_name(file_path))\n",
    "            ##split pdf file into pages\n",
    "            if (make_png):\n",
    "                pages = convert_from_path(file_path)\n",
    "                page_num = 0\n",
    "                for page in pages:\n",
    "                    page.save(img_directory + base_name(file_path) + \"/unprocessed/\" + str(page_num) + \".png\", 'PNG')\n",
    "                    page_num += 1\n",
    "                    extraction_progress = update_progress(extraction_progress, len(pages)*len(files), \"extracting images from pdf files\")\n",
    "                page_num = 0\n",
    "        except Exception as e:\n",
    "            print (e)\n",
    "            pass\n",
    "print(\"extraction complete\")"
   ]
  },
  {
   "cell_type": "markdown",
   "metadata": {},
   "source": [
    "### Crop images around human figure & extract colour channels"
   ]
  },
  {
   "cell_type": "code",
   "execution_count": 13,
   "metadata": {},
   "outputs": [
    {
     "name": "stdout",
     "output_type": "stream",
     "text": [
      "Reading from foler: Outi\n",
      "Reading from foler: Zjana\n",
      "Reading from foler: Simona\n",
      "Reading from foler: Juan\n",
      "Reading from foler: Ella\n",
      "Reading from foler: Eleonora\n",
      "Reading from foler: Hanna\n",
      "Reading from foler: Einav\n",
      "Reading from foler: Kadri\n",
      "Reading from foler: Sylvia\n"
     ]
    }
   ],
   "source": [
    "excluded = set([\".mayaSwatches\", \".ipynb_checkpoints\", \"unprocessed\", \"cyan\", \"red\", \"scaled\", \"augmented\"])\n",
    "names = []\n",
    "res = 224\n",
    "\n",
    "# list of colour boundaries\n",
    "boundaries = [\n",
    "\t([70, 0, 100, 0], [100, 255,255, 255]),\n",
    "\t([0, 50, 0, 0], [70, 255,255, 255])\n",
    "]\n",
    "\n",
    "for path, subdirs, files, in os.walk(img_directory):\n",
    "    for subdir in [s for s in subdirs if s not in excluded]:\n",
    "        names.append(subdir)\n",
    "        print(\"Reading from foler: \" + subdir)\n",
    "        for path, subdirs, files, in os.walk(img_directory+subdir+\"/unprocessed\"):\n",
    "            for file in files:\n",
    "                drawings = []\n",
    "                file_path = os.path.join(path,file)\n",
    "                img = cv2.imread(file_path)\n",
    "                #fill space around manikin, in top-left corner and top\n",
    "                img = add_whitespace(img, 0, 0, 700, 450)\n",
    "                img = add_whitespace(img, 0, 0, img.shape[0],200)\n",
    "                #crop around manikin\n",
    "                cropped_img = crop_heatmap(img, 0)\n",
    "                file_path = os.path.join(os.path.normpath(os.path.join(path, os.pardir)),file)\n",
    "                cv2.imwrite(file_path, cropped_img)\n",
    "                ## convert to hsv\n",
    "                hsv = cv2.cvtColor(cropped_img, cv2.COLOR_BGR2HSV)\n",
    "                # loop over the boundaries\n",
    "                for lower_bound, upper_bound in boundaries:\n",
    "                    drawings.append(extract_drawing(cropped_img, hsv, tuple(lower_bound), tuple(upper_bound)))\n",
    "                ## separate masking of cyan and red + ## filter bodily outline\n",
    "                file_path = os.path.normpath(os.path.join(file_path, os.pardir))\n",
    "                cyan_drawing, red_drawing = drawings\n",
    "                cv2.imwrite(file_path+\"/cyan/scaled/\"+file, compress(cyan_drawing, (res, res)))\n",
    "                cv2.imwrite(file_path+\"/red/scaled/\"+file, compress(red_drawing, (res, res)))                "
   ]
  },
  {
   "cell_type": "code",
   "execution_count": 14,
   "metadata": {},
   "outputs": [
    {
     "name": "stdout",
     "output_type": "stream",
     "text": [
      "Reading from foler: Outi\n",
      "Reading from foler: Zjana\n",
      "Reading from foler: Simona\n",
      "Reading from foler: Juan\n",
      "Reading from foler: Ella\n",
      "Reading from foler: Eleonora\n",
      "Reading from foler: Hanna\n",
      "Reading from foler: Einav\n",
      "Reading from foler: Kadri\n",
      "Reading from foler: Sylvia\n"
     ]
    },
    {
     "ename": "FileNotFoundError",
     "evalue": "No such file: '/Users/williamprimett1/Documents/Work/MODI/MITI/modi_ws2/latent_steps_visualizer/sketch_feature_extractor/data/img/Sylvia/red/manikin.png'",
     "output_type": "error",
     "traceback": [
      "\u001b[0;31m---------------------------------------------------------------------------\u001b[0m",
      "\u001b[0;31mFileNotFoundError\u001b[0m                         Traceback (most recent call last)",
      "\u001b[0;32m<ipython-input-14-64e6f2d34763>\u001b[0m in \u001b[0;36m<module>\u001b[0;34m\u001b[0m\n\u001b[1;32m     14\u001b[0m             \u001b[0;32mif\u001b[0m \u001b[0mfile\u001b[0m\u001b[0;34m.\u001b[0m\u001b[0mendswith\u001b[0m\u001b[0;34m(\u001b[0m\u001b[0;34m\".png\"\u001b[0m\u001b[0;34m)\u001b[0m\u001b[0;34m:\u001b[0m\u001b[0;34m\u001b[0m\u001b[0m\n\u001b[1;32m     15\u001b[0m                 \u001b[0mfile_path\u001b[0m \u001b[0;34m=\u001b[0m \u001b[0mos\u001b[0m\u001b[0;34m.\u001b[0m\u001b[0mpath\u001b[0m\u001b[0;34m.\u001b[0m\u001b[0mjoin\u001b[0m\u001b[0;34m(\u001b[0m\u001b[0mimg_directory\u001b[0m\u001b[0;34m+\u001b[0m\u001b[0msubdir\u001b[0m\u001b[0;34m+\u001b[0m\u001b[0;34m\"/red/\"\u001b[0m\u001b[0;34m,\u001b[0m\u001b[0mfile\u001b[0m\u001b[0;34m)\u001b[0m\u001b[0;34m\u001b[0m\u001b[0m\n\u001b[0;32m---> 16\u001b[0;31m                 \u001b[0mcropped_img\u001b[0m \u001b[0;34m=\u001b[0m \u001b[0mimageio\u001b[0m\u001b[0;34m.\u001b[0m\u001b[0mimread\u001b[0m\u001b[0;34m(\u001b[0m\u001b[0mfile_path\u001b[0m\u001b[0;34m)\u001b[0m\u001b[0;34m\u001b[0m\u001b[0m\n\u001b[0m\u001b[1;32m     17\u001b[0m                 \u001b[0;31m## generate variations of image\u001b[0m\u001b[0;34m\u001b[0m\u001b[0;34m\u001b[0m\u001b[0m\n\u001b[1;32m     18\u001b[0m                 \u001b[0maugmented_images\u001b[0m \u001b[0;34m=\u001b[0m \u001b[0mgenerate_augmentation\u001b[0m\u001b[0;34m(\u001b[0m\u001b[0mcropped_img\u001b[0m\u001b[0;34m,\u001b[0m \u001b[0mget_seqs\u001b[0m\u001b[0;34m(\u001b[0m\u001b[0;34m)\u001b[0m\u001b[0;34m)\u001b[0m\u001b[0;34m\u001b[0m\u001b[0m\n",
      "\u001b[0;32m/Library/Frameworks/Python.framework/Versions/3.6/lib/python3.6/site-packages/imageio/core/functions.py\u001b[0m in \u001b[0;36mimread\u001b[0;34m(uri, format, **kwargs)\u001b[0m\n\u001b[1;32m    219\u001b[0m \u001b[0;34m\u001b[0m\u001b[0m\n\u001b[1;32m    220\u001b[0m     \u001b[0;31m# Get reader and read first\u001b[0m\u001b[0;34m\u001b[0m\u001b[0;34m\u001b[0m\u001b[0m\n\u001b[0;32m--> 221\u001b[0;31m     \u001b[0mreader\u001b[0m \u001b[0;34m=\u001b[0m \u001b[0mread\u001b[0m\u001b[0;34m(\u001b[0m\u001b[0muri\u001b[0m\u001b[0;34m,\u001b[0m \u001b[0mformat\u001b[0m\u001b[0;34m,\u001b[0m \u001b[0;34m\"i\"\u001b[0m\u001b[0;34m,\u001b[0m \u001b[0;34m**\u001b[0m\u001b[0mkwargs\u001b[0m\u001b[0;34m)\u001b[0m\u001b[0;34m\u001b[0m\u001b[0m\n\u001b[0m\u001b[1;32m    222\u001b[0m     \u001b[0;32mwith\u001b[0m \u001b[0mreader\u001b[0m\u001b[0;34m:\u001b[0m\u001b[0;34m\u001b[0m\u001b[0m\n\u001b[1;32m    223\u001b[0m         \u001b[0;32mreturn\u001b[0m \u001b[0mreader\u001b[0m\u001b[0;34m.\u001b[0m\u001b[0mget_data\u001b[0m\u001b[0;34m(\u001b[0m\u001b[0;36m0\u001b[0m\u001b[0;34m)\u001b[0m\u001b[0;34m\u001b[0m\u001b[0m\n",
      "\u001b[0;32m/Library/Frameworks/Python.framework/Versions/3.6/lib/python3.6/site-packages/imageio/core/functions.py\u001b[0m in \u001b[0;36mget_reader\u001b[0;34m(uri, format, mode, **kwargs)\u001b[0m\n\u001b[1;32m    128\u001b[0m \u001b[0;34m\u001b[0m\u001b[0m\n\u001b[1;32m    129\u001b[0m     \u001b[0;31m# Create request object\u001b[0m\u001b[0;34m\u001b[0m\u001b[0;34m\u001b[0m\u001b[0m\n\u001b[0;32m--> 130\u001b[0;31m     \u001b[0mrequest\u001b[0m \u001b[0;34m=\u001b[0m \u001b[0mRequest\u001b[0m\u001b[0;34m(\u001b[0m\u001b[0muri\u001b[0m\u001b[0;34m,\u001b[0m \u001b[0;34m\"r\"\u001b[0m \u001b[0;34m+\u001b[0m \u001b[0mmode\u001b[0m\u001b[0;34m,\u001b[0m \u001b[0;34m**\u001b[0m\u001b[0mkwargs\u001b[0m\u001b[0;34m)\u001b[0m\u001b[0;34m\u001b[0m\u001b[0m\n\u001b[0m\u001b[1;32m    131\u001b[0m \u001b[0;34m\u001b[0m\u001b[0m\n\u001b[1;32m    132\u001b[0m     \u001b[0;31m# Get format\u001b[0m\u001b[0;34m\u001b[0m\u001b[0;34m\u001b[0m\u001b[0m\n",
      "\u001b[0;32m/Library/Frameworks/Python.framework/Versions/3.6/lib/python3.6/site-packages/imageio/core/request.py\u001b[0m in \u001b[0;36m__init__\u001b[0;34m(self, uri, mode, **kwargs)\u001b[0m\n\u001b[1;32m    124\u001b[0m \u001b[0;34m\u001b[0m\u001b[0m\n\u001b[1;32m    125\u001b[0m         \u001b[0;31m# Parse what was given\u001b[0m\u001b[0;34m\u001b[0m\u001b[0;34m\u001b[0m\u001b[0m\n\u001b[0;32m--> 126\u001b[0;31m         \u001b[0mself\u001b[0m\u001b[0;34m.\u001b[0m\u001b[0m_parse_uri\u001b[0m\u001b[0;34m(\u001b[0m\u001b[0muri\u001b[0m\u001b[0;34m)\u001b[0m\u001b[0;34m\u001b[0m\u001b[0m\n\u001b[0m\u001b[1;32m    127\u001b[0m \u001b[0;34m\u001b[0m\u001b[0m\n\u001b[1;32m    128\u001b[0m         \u001b[0;31m# Set extension\u001b[0m\u001b[0;34m\u001b[0m\u001b[0;34m\u001b[0m\u001b[0m\n",
      "\u001b[0;32m/Library/Frameworks/Python.framework/Versions/3.6/lib/python3.6/site-packages/imageio/core/request.py\u001b[0m in \u001b[0;36m_parse_uri\u001b[0;34m(self, uri)\u001b[0m\n\u001b[1;32m    276\u001b[0m                 \u001b[0;31m# Reading: check that the file exists (but is allowed a dir)\u001b[0m\u001b[0;34m\u001b[0m\u001b[0;34m\u001b[0m\u001b[0m\n\u001b[1;32m    277\u001b[0m                 \u001b[0;32mif\u001b[0m \u001b[0;32mnot\u001b[0m \u001b[0mos\u001b[0m\u001b[0;34m.\u001b[0m\u001b[0mpath\u001b[0m\u001b[0;34m.\u001b[0m\u001b[0mexists\u001b[0m\u001b[0;34m(\u001b[0m\u001b[0mfn\u001b[0m\u001b[0;34m)\u001b[0m\u001b[0;34m:\u001b[0m\u001b[0;34m\u001b[0m\u001b[0m\n\u001b[0;32m--> 278\u001b[0;31m                     \u001b[0;32mraise\u001b[0m \u001b[0mFileNotFoundError\u001b[0m\u001b[0;34m(\u001b[0m\u001b[0;34m\"No such file: '%s'\"\u001b[0m \u001b[0;34m%\u001b[0m \u001b[0mfn\u001b[0m\u001b[0;34m)\u001b[0m\u001b[0;34m\u001b[0m\u001b[0m\n\u001b[0m\u001b[1;32m    279\u001b[0m             \u001b[0;32melse\u001b[0m\u001b[0;34m:\u001b[0m\u001b[0;34m\u001b[0m\u001b[0m\n\u001b[1;32m    280\u001b[0m                 \u001b[0;31m# Writing: check that the directory to write to does exist\u001b[0m\u001b[0;34m\u001b[0m\u001b[0;34m\u001b[0m\u001b[0m\n",
      "\u001b[0;31mFileNotFoundError\u001b[0m: No such file: '/Users/williamprimett1/Documents/Work/MODI/MITI/modi_ws2/latent_steps_visualizer/sketch_feature_extractor/data/img/Sylvia/red/manikin.png'"
     ]
    }
   ],
   "source": [
    "excluded = set([\".mayaSwatches\", \".ipynb_checkpoints\", \"unprocessed\", \"cyan\", \"red\", \"scaled\", \"augmented\"])\n",
    "# list of colour boundaries\n",
    "boundaries = [\n",
    "\t([70, 0, 100, 0], [100, 255,255, 255]),\n",
    "\t([0, 50, 0, 0], [70, 255,255, 255])\n",
    "]\n",
    "\n",
    "augmented_images = None\n",
    "\n",
    "for path, subdirs, files, in os.walk(img_directory, topdown=True):\n",
    "    for subdir in [s for s in subdirs if s not in excluded]:\n",
    "        print(\"Reading from foler: \" + subdir)\n",
    "        for file in os.listdir(img_directory+subdir):\n",
    "            if file.endswith(\".png\"):\n",
    "                file_path = os.path.join(img_directory+subdir+\"/red/\",file)\n",
    "                cropped_img = imageio.imread(file_path)\n",
    "                ## generate variations of image\n",
    "                augmented_images = generate_augmentation(cropped_img, get_seqs())\n",
    "                file_path = os.path.normpath(os.path.join(file_path, os.pardir))\n",
    "                for idx in range(len(augmented_images)):\n",
    "                    augmented_im = augmented_images[idx]\n",
    "                    uri = append_id(file_path+\"/augmented/\"+file, idx)\n",
    "#                     imageio.imwrite(uri, cyan_drawing_aug)\n",
    "                    imageio.imwrite(append_id(file_path+\"/augmented/\"+file, idx), compress(augmented_im, (112, 112)))\n",
    "                file_path = os.path.join(img_directory+subdir+\"/cyan/\",file)\n",
    "                cropped_img = imageio.imread(file_path)\n",
    "                ## generate variations of image\n",
    "                augmented_images = generate_augmentation(cropped_img, get_seqs())\n",
    "                file_path = os.path.normpath(os.path.join(file_path, os.pardir))\n",
    "                for idx in range(len(augmented_images)):\n",
    "                    augmented_im = augmented_images[idx]\n",
    "                    uri = append_id(file_path+\"/augmented/\"+file, idx)\n",
    "#                     imageio.imwrite(uri, cyan_drawing_aug)\n",
    "                    imageio.imwrite(append_id(file_path+\"/augmented/\"+file, idx), compress(augmented_im, (112, 112)))\n",
    "\n",
    "# for i in range(np.shape(im)[0]):  \n",
    "#     ia.imshow(np.hstack(im[i]))"
   ]
  },
  {
   "cell_type": "code",
   "execution_count": null,
   "metadata": {},
   "outputs": [],
   "source": [
    "images = [cv2.imread(file) for file in glob.glob('data/img/Juan/*png')]\n",
    "for img in images:\n",
    "    tmp = cv2.cvtColor(img, cv2.COLOR_BGR2GRAY)\n",
    "    _,alpha = cv2.threshold(tmp,0,255,cv2.THRESH_BINARY)\n",
    "    b, g, r = cv2.split(img)\n",
    "    rgba = [b,g,r, alpha]\n",
    "    dst = cv2.merge(rgba,4)\n",
    "    cv2.imwrite(\"test.png\", dst)"
   ]
  },
  {
   "cell_type": "code",
   "execution_count": null,
   "metadata": {},
   "outputs": [],
   "source": [
    "drawings = drawings[:5]\n",
    "# augment them as one batch\n",
    "images_aug = []\n",
    "for i in range(len(drawings)):\n",
    "    images_aug = []\n",
    "    for j in range(len(seq)):\n",
    "        images_aug.append(seq[j].augment_images(drawings))\n",
    "images_aug = np.array(images_aug)\n",
    "images_aug = images_aug.transpose()\n",
    "print(np.shape(images_aug))"
   ]
  },
  {
   "cell_type": "code",
   "execution_count": null,
   "metadata": {},
   "outputs": [],
   "source": [
    "filelist=glob.glob(\"sketch_dataset/*.png\")\n",
    "for file in filelist:\n",
    "    os.remove(file)"
   ]
  },
  {
   "cell_type": "code",
   "execution_count": null,
   "metadata": {},
   "outputs": [],
   "source": [
    "from imutils import paths\n",
    "def create_gif(inputPath, outputPath, delay, finalDelay, loop):\n",
    "    # grab all image paths in the input directory\n",
    "    imagePaths = sorted(list(paths.list_images(inputPath)))\n",
    "    print(imagePaths)\n",
    "\n",
    "    # remove the last image path in the list\n",
    "    lastPath = imagePaths[-1]\n",
    "    imagePaths = imagePaths[:-1]\n",
    "\n",
    "    # construct the image magick 'convert' command that will be used\n",
    "    # generate our output GIF, giving a larger delay to the final\n",
    "    # frame (if so desired)\n",
    "    cmd = \"convert -delay {} {} -delay {} {} -loop {} {}\".format(\n",
    "        delay, \" \".join(imagePaths), finalDelay, lastPath, loop,\n",
    "        outputPath)\n",
    "    os.system(cmd)\n",
    "\n",
    "create_gif(\"../output/tests/result3\", \"../output/new.gif\", 0, 0, 0)"
   ]
  },
  {
   "cell_type": "code",
   "execution_count": 28,
   "metadata": {},
   "outputs": [
    {
     "name": "stdout",
     "output_type": "stream",
     "text": [
      "[[0.73763127 0.85867266 0.51512893 0.44287209 0.39858194 0.66799768\n",
      "  0.93438549 0.59590417 0.82682479 0.82378402 0.97508078 0.25411254\n",
      "  0.55522038 0.92192126 0.71603677 0.52211709 0.32508702 0.98850171\n",
      "  0.60958541 0.3361495  0.65949249 0.72382998 0.0620352  0.74958743\n",
      "  0.67004079 0.11579191 0.23410546 0.87806106 0.54032903 0.53228386\n",
      "  0.90809653 0.61313432 0.74359926 0.86641524 0.23739882 0.66758486\n",
      "  0.47457284 0.813263   0.76840795 0.90922859 0.77165332 0.27806101\n",
      "  0.20115522 0.20489238 0.99686797 0.96101099 0.82488799 0.14322341\n",
      "  0.69966384 0.54181728 0.53016455 0.79154469 0.04822745 0.16248231\n",
      "  0.75795363 0.21910284 0.70624383 0.92158124 0.02830612 0.78755669\n",
      "  0.73489162 0.36200713 0.76881268 0.36922407]]\n",
      "[[0.73948868 0.83622363 0.51166218 0.42852042 0.38932282 0.66775964\n",
      "  0.92668459 0.60181614 0.83551763 0.82956326 0.96366157 0.24593855\n",
      "  0.55617098 0.91907522 0.73181983 0.51268568 0.32617921 0.97940738\n",
      "  0.61576388 0.33273837 0.64976242 0.73250332 0.05836743 0.73848537\n",
      "  0.66579096 0.10504449 0.23456496 0.8598361  0.53041545 0.53810312\n",
      "  0.89753167 0.60475384 0.75351925 0.88884968 0.22944479 0.6735477\n",
      "  0.46350055 0.79635698 0.77841953 0.91236786 0.76836343 0.27932906\n",
      "  0.20135462 0.20002037 0.99752295 0.97028147 0.82045407 0.14540548\n",
      "  0.6917079  0.53513907 0.5392994  0.78972491 0.05087195 0.14968867\n",
      "  0.73441926 0.23283286 0.71126029 0.92517333 0.03454768 0.79836307\n",
      "  0.73696256 0.34065572 0.75754813 0.36742865]]\n",
      "[[0.7413461  0.8137746  0.50819543 0.41416874 0.3800637  0.6675216\n",
      "  0.91898368 0.60772811 0.84421048 0.8353425  0.95224236 0.23776455\n",
      "  0.55712159 0.91622919 0.74760288 0.50325427 0.3272714  0.97031306\n",
      "  0.62194235 0.32932724 0.64003234 0.74117665 0.05469966 0.72738331\n",
      "  0.66154113 0.09429707 0.23502447 0.84161113 0.52050188 0.54392238\n",
      "  0.88696682 0.59637336 0.76343924 0.91128413 0.22149077 0.67951053\n",
      "  0.45242825 0.77945096 0.78843112 0.91550712 0.76507354 0.28059711\n",
      "  0.20155402 0.19514837 0.99817793 0.97955195 0.81602015 0.14758755\n",
      "  0.68375197 0.52846086 0.54843425 0.78790513 0.05351645 0.13689502\n",
      "  0.71088488 0.24656289 0.71627675 0.92876542 0.04078924 0.80916944\n",
      "  0.7390335  0.31930431 0.74628359 0.36563322]]\n",
      "[[0.74320352 0.79132557 0.50472867 0.39981706 0.37080458 0.66728356\n",
      "  0.91128277 0.61364009 0.85290332 0.84112174 0.94082315 0.22959056\n",
      "  0.55807219 0.91338315 0.76338594 0.49382286 0.32836359 0.96121873\n",
      "  0.62812081 0.32591611 0.63030226 0.74984999 0.0510319  0.71628124\n",
      "  0.6572913  0.08354965 0.23548397 0.82338617 0.5105883  0.54974164\n",
      "  0.87640197 0.58799287 0.77335924 0.93371858 0.21353675 0.68547337\n",
      "  0.44135595 0.76254494 0.7984427  0.91864639 0.76178366 0.28186516\n",
      "  0.20175341 0.19027637 0.99883291 0.98882244 0.81158623 0.14976962\n",
      "  0.67579603 0.52178265 0.5575691  0.78608536 0.05616094 0.12410137\n",
      "  0.68735051 0.26029291 0.72129321 0.93235751 0.04703079 0.81997581\n",
      "  0.74110444 0.2979529  0.73501905 0.3638378 ]]\n",
      "[[0.74506094 0.76887654 0.50126192 0.38546538 0.36154546 0.66704552\n",
      "  0.90358187 0.61955206 0.86159616 0.84690099 0.92940394 0.22141657\n",
      "  0.5590228  0.91053711 0.77916899 0.48439146 0.32945577 0.9521244\n",
      "  0.63429928 0.32250498 0.62057218 0.75852333 0.04736413 0.70517918\n",
      "  0.65304147 0.07280223 0.23594348 0.8051612  0.50067472 0.5555609\n",
      "  0.86583711 0.57961239 0.78327923 0.95615302 0.20558272 0.69143621\n",
      "  0.43028365 0.74563892 0.80845429 0.92178566 0.75849377 0.28313321\n",
      "  0.20195281 0.18540436 0.99948789 0.99809292 0.80715231 0.15195168\n",
      "  0.66784009 0.51510444 0.56670395 0.78426558 0.05880544 0.11130773\n",
      "  0.66381614 0.27402293 0.72630967 0.9359496  0.05327235 0.83078219\n",
      "  0.74317538 0.27660149 0.7237545  0.36204237]]\n",
      "[[0.74691836 0.74642751 0.49779517 0.3711137  0.35228635 0.66680748\n",
      "  0.89588096 0.62546403 0.87028901 0.85268023 0.91798473 0.21324258\n",
      "  0.5599734  0.90769108 0.79495205 0.47496005 0.33054796 0.94303007\n",
      "  0.64047775 0.31909385 0.6108421  0.76719666 0.04369636 0.69407712\n",
      "  0.64879164 0.06205481 0.23640299 0.78693624 0.49076115 0.56138016\n",
      "  0.85527226 0.57123191 0.79319922 0.97858747 0.1976287  0.69739905\n",
      "  0.41921136 0.72873289 0.81846587 0.92492492 0.75520388 0.28440126\n",
      "  0.20215221 0.18053236 1.00014287 1.0073634  0.80271839 0.15413375\n",
      "  0.65988415 0.50842623 0.5758388  0.7824458  0.06144993 0.09851408\n",
      "  0.64028177 0.28775295 0.73132614 0.93954169 0.05951391 0.84158856\n",
      "  0.74524632 0.25525008 0.71248996 0.36024695]]\n",
      "[[0.74877578 0.72397848 0.49432842 0.35676202 0.34302723 0.66656944\n",
      "  0.88818005 0.631376   0.87898185 0.85845947 0.90656552 0.20506858\n",
      "  0.56092401 0.90484504 0.8107351  0.46552864 0.33164015 0.93393575\n",
      "  0.64665622 0.31568272 0.60111203 0.77587    0.0400286  0.68297505\n",
      "  0.64454182 0.05130739 0.23686249 0.76871127 0.48084757 0.56719942\n",
      "  0.84470741 0.56285142 0.80311921 1.00102192 0.18967467 0.70336188\n",
      "  0.40813906 0.71182687 0.82847746 0.92806419 0.751914   0.28566931\n",
      "  0.2023516  0.17566035 1.00079785 1.01663388 0.79828447 0.15631582\n",
      "  0.65192821 0.50174802 0.58497365 0.78062603 0.06409443 0.08572043\n",
      "  0.61674739 0.30148297 0.7363426  0.94313378 0.06575547 0.85239494\n",
      "  0.74731726 0.23389867 0.70122542 0.35845153]]\n",
      "[[0.7506332  0.70152945 0.49086167 0.34241034 0.33376811 0.6663314\n",
      "  0.88047915 0.63728797 0.8876747  0.86423871 0.89514632 0.19689459\n",
      "  0.56187461 0.90199901 0.82651815 0.45609723 0.33273234 0.92484142\n",
      "  0.65283469 0.31227159 0.59138195 0.78454333 0.03636083 0.67187299\n",
      "  0.64029199 0.04055997 0.237322   0.75048631 0.47093399 0.57301868\n",
      "  0.83414255 0.55447094 0.8130392  1.02345637 0.18172065 0.70932472\n",
      "  0.39706676 0.69492085 0.83848904 0.93120345 0.74862411 0.28693736\n",
      "  0.202551   0.17078835 1.00145283 1.02590436 0.79385055 0.15849789\n",
      "  0.64397228 0.49506981 0.5941085  0.77880625 0.06673892 0.07292678\n",
      "  0.59321302 0.31521299 0.74135906 0.94672587 0.07199703 0.86320131\n",
      "  0.74938819 0.21254726 0.68996088 0.3566561 ]]\n"
     ]
    },
    {
     "ename": "KeyboardInterrupt",
     "evalue": "",
     "output_type": "error",
     "traceback": [
      "\u001b[0;31m---------------------------------------------------------------------------\u001b[0m",
      "\u001b[0;31mKeyboardInterrupt\u001b[0m                         Traceback (most recent call last)",
      "\u001b[0;32m<ipython-input-28-0434b28a0621>\u001b[0m in \u001b[0;36m<module>\u001b[0;34m\u001b[0m\n\u001b[1;32m      5\u001b[0m     \u001b[0mlat_space\u001b[0m \u001b[0;34m=\u001b[0m \u001b[0mnumpy\u001b[0m\u001b[0;34m.\u001b[0m\u001b[0madd\u001b[0m\u001b[0;34m(\u001b[0m\u001b[0mlat_space\u001b[0m\u001b[0;34m,\u001b[0m \u001b[0mnoise\u001b[0m\u001b[0;34m)\u001b[0m\u001b[0;34m\u001b[0m\u001b[0m\n\u001b[1;32m      6\u001b[0m     \u001b[0mprint\u001b[0m\u001b[0;34m(\u001b[0m\u001b[0mlat_space\u001b[0m\u001b[0;34m)\u001b[0m\u001b[0;34m\u001b[0m\u001b[0m\n\u001b[0;32m----> 7\u001b[0;31m     \u001b[0msleep\u001b[0m\u001b[0;34m(\u001b[0m\u001b[0;36m1\u001b[0m\u001b[0;34m)\u001b[0m\u001b[0;34m\u001b[0m\u001b[0m\n\u001b[0m",
      "\u001b[0;31mKeyboardInterrupt\u001b[0m: "
     ]
    }
   ],
   "source": [
    "from time import sleep\n",
    "lat_space = np.random.rand(1, 64)\n",
    "noise = np.random.normal(0,0.01,64)\n",
    "while 1:\n",
    "    lat_space = numpy.add(lat_space, noise)\n",
    "    print(lat_space)\n",
    "    sleep(1)"
   ]
  },
  {
   "cell_type": "code",
   "execution_count": null,
   "metadata": {},
   "outputs": [],
   "source": []
  }
 ],
 "metadata": {
  "kernelspec": {
   "display_name": "Python 3",
   "language": "python",
   "name": "python3"
  },
  "language_info": {
   "codemirror_mode": {
    "name": "ipython",
    "version": 3
   },
   "file_extension": ".py",
   "mimetype": "text/x-python",
   "name": "python",
   "nbconvert_exporter": "python",
   "pygments_lexer": "ipython3",
   "version": "3.6.6"
  }
 },
 "nbformat": 4,
 "nbformat_minor": 2
}
