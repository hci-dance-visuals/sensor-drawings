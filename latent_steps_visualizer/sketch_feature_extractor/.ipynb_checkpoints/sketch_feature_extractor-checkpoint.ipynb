{
 "cells": [
  {
   "cell_type": "code",
   "execution_count": 1,
   "metadata": {},
   "outputs": [],
   "source": [
    "import os, sys, glob\n",
    "import cv2\n",
    "import numpy as np\n",
    "import matplotlib.pyplot as plt\n",
    "from pdf2image import convert_from_path\n",
    "from image_processing_tools import *\n",
    "%matplotlib notebook"
   ]
  },
  {
   "cell_type": "markdown",
   "metadata": {},
   "source": [
    "### Extract Images from PDF Library"
   ]
  },
  {
   "cell_type": "code",
   "execution_count": 2,
   "metadata": {},
   "outputs": [
    {
     "name": "stdout",
     "output_type": "stream",
     "text": [
      "[Errno 17] File exists: 'data/img/Outi'\n",
      "[Errno 17] File exists: 'data/img/Outi/unprocessed'\n",
      "[Errno 17] File exists: 'data/img/Outi/red'\n",
      "[Errno 17] File exists: 'data/img/Outi/cyan'\n",
      "[Errno 17] File exists: 'data/img/Outi/red/scaled'\n",
      "[Errno 17] File exists: 'data/img/Outi/cyan/scaled'\n",
      "[Errno 17] File exists: 'data/img/Zjana'\n",
      "[Errno 17] File exists: 'data/img/Zjana/unprocessed'\n",
      "[Errno 17] File exists: 'data/img/Zjana/red'\n",
      "[Errno 17] File exists: 'data/img/Zjana/cyan'\n",
      "[Errno 17] File exists: 'data/img/Zjana/red/scaled'\n",
      "[Errno 17] File exists: 'data/img/Zjana/cyan/scaled'\n",
      "[Errno 17] File exists: 'data/img/Kadri'\n",
      "[Errno 17] File exists: 'data/img/Kadri/unprocessed'\n",
      "[Errno 17] File exists: 'data/img/Kadri/red'\n",
      "[Errno 17] File exists: 'data/img/Kadri/cyan'\n",
      "[Errno 17] File exists: 'data/img/Kadri/red/scaled'\n",
      "[Errno 17] File exists: 'data/img/Kadri/cyan/scaled'\n",
      "[Errno 17] File exists: 'data/img/Simona'\n",
      "[Errno 17] File exists: 'data/img/Simona/unprocessed'\n",
      "[Errno 17] File exists: 'data/img/Simona/red'\n",
      "[Errno 17] File exists: 'data/img/Simona/cyan'\n",
      "[Errno 17] File exists: 'data/img/Simona/red/scaled'\n",
      "[Errno 17] File exists: 'data/img/Simona/cyan/scaled'\n",
      "[Errno 17] File exists: 'data/img/Sylvia'\n",
      "[Errno 17] File exists: 'data/img/Sylvia/unprocessed'\n",
      "[Errno 17] File exists: 'data/img/Sylvia/red'\n",
      "[Errno 17] File exists: 'data/img/Sylvia/cyan'\n",
      "[Errno 17] File exists: 'data/img/Sylvia/red/scaled'\n",
      "[Errno 17] File exists: 'data/img/Sylvia/cyan/scaled'\n",
      "[Errno 17] File exists: 'data/img/Eleonora'\n",
      "[Errno 17] File exists: 'data/img/Eleonora/unprocessed'\n",
      "[Errno 17] File exists: 'data/img/Eleonora/red'\n",
      "[Errno 17] File exists: 'data/img/Eleonora/cyan'\n",
      "[Errno 17] File exists: 'data/img/Eleonora/red/scaled'\n",
      "[Errno 17] File exists: 'data/img/Eleonora/cyan/scaled'\n",
      "[Errno 17] File exists: 'data/img/Ella'\n",
      "[Errno 17] File exists: 'data/img/Ella/unprocessed'\n",
      "[Errno 17] File exists: 'data/img/Ella/red'\n",
      "[Errno 17] File exists: 'data/img/Ella/cyan'\n",
      "[Errno 17] File exists: 'data/img/Ella/red/scaled'\n",
      "[Errno 17] File exists: 'data/img/Ella/cyan/scaled'\n",
      "[Errno 17] File exists: 'data/img/Einav'\n",
      "[Errno 17] File exists: 'data/img/Einav/unprocessed'\n",
      "[Errno 17] File exists: 'data/img/Einav/red'\n",
      "[Errno 17] File exists: 'data/img/Einav/cyan'\n",
      "[Errno 17] File exists: 'data/img/Einav/red/scaled'\n",
      "[Errno 17] File exists: 'data/img/Einav/cyan/scaled'\n",
      "[Errno 17] File exists: 'data/img/Juan'\n",
      "[Errno 17] File exists: 'data/img/Juan/unprocessed'\n",
      "[Errno 17] File exists: 'data/img/Juan/red'\n",
      "[Errno 17] File exists: 'data/img/Juan/cyan'\n",
      "[Errno 17] File exists: 'data/img/Juan/red/scaled'\n",
      "[Errno 17] File exists: 'data/img/Juan/cyan/scaled'\n",
      "[Errno 17] File exists: 'data/img/Hanna'\n",
      "[Errno 17] File exists: 'data/img/Hanna/unprocessed'\n",
      "[Errno 17] File exists: 'data/img/Hanna/red'\n",
      "[Errno 17] File exists: 'data/img/Hanna/cyan'\n",
      "[Errno 17] File exists: 'data/img/Hanna/red/scaled'\n",
      "[Errno 17] File exists: 'data/img/Hanna/cyan/scaled'\n",
      "extraction complete\n"
     ]
    }
   ],
   "source": [
    "excluded = [\".ipynb_checkpoints\", \"unprocessed\"]\n",
    "extraction_progress = 1\n",
    "make_png = False\n",
    "names = []\n",
    "for path, subdirs, files, in os.walk(pdf_directory):\n",
    "    for file in files:\n",
    "        try:\n",
    "            names.append(file.split('.')[0])\n",
    "            file_path = os.path.join(path,file)\n",
    "            new_performer_data(base_name(file_path))\n",
    "            ##split pdf file into pages\n",
    "            if (make_png):\n",
    "                pages = convert_from_path(file_path)\n",
    "                page_num = 0\n",
    "                for page in pages:\n",
    "                    page.save(img_directory + base_name(file_path) + \"/unprocessed/\" + str(page_num) + \".png\", 'PNG')\n",
    "                    page_num += 1\n",
    "                    extraction_progress = update_progress(extraction_progress, len(pages)*len(files), \"extracting images from pdf files\")\n",
    "                page_num = 0\n",
    "        except Exception as e:\n",
    "            print (e)\n",
    "            pass\n",
    "print(\"extraction complete\")"
   ]
  },
  {
   "cell_type": "markdown",
   "metadata": {},
   "source": [
    "### Crop images around human figure & extract colour channels"
   ]
  },
  {
   "cell_type": "code",
   "execution_count": 15,
   "metadata": {},
   "outputs": [],
   "source": [
    "excluded = [\".ipynb_checkpoints\", \"unprocessed\", \"cyan\", \"red\", \"scaled\"]\n",
    "names = []\n",
    "\n",
    "# list of colour boundaries\n",
    "boundaries = [\n",
    "\t([70, 0, 100, 0], [100, 255,255, 255]),\n",
    "\t([0, 50, 0, 0], [70, 255,255, 255])\n",
    "]\n",
    "\n",
    "for path, subdirs, files, in os.walk(img_directory):\n",
    "    for subdir in subdirs:\n",
    "        if any(ex in subdir for ex in excluded):\n",
    "            continue\n",
    "        names.append(subdir)\n",
    "        print(\"Reading from foler: \" + subdir)\n",
    "        for path, subdirs, files, in os.walk(img_directory+subdir+\"/unprocessed\"):\n",
    "            for file in files:\n",
    "                drawings = []\n",
    "                file_path = os.path.join(path,file)\n",
    "                img = cv2.imread(file_path)\n",
    "                #fill space around manikin, in top-left corner and top\n",
    "                img = add_whitespace(img, 0, 0, 700, 450)\n",
    "                img = add_whitespace(img, 0, 0, img.shape[0],200)\n",
    "                #crop around manikin\n",
    "                cropped_img = crop_heatmap(img, 0)\n",
    "                file_path = os.path.join(os.path.normpath(os.path.join(path, os.pardir)),file)\n",
    "                cv2.imwrite(file_path, cropped_img)\n",
    "                \n",
    "                ## convert to hsv\n",
    "                hsv = cv2.cvtColor(cropped_img, cv2.COLOR_BGR2HSV)\n",
    "                # loop over the boundaries\n",
    "                for lower_bound, upper_bound in boundaries:\n",
    "                    drawings.append(extract_drawing(cropped_img, hsv, tuple(lower_bound), tuple(upper_bound)))\n",
    "                ## separate masking of cyan and red + ## filter bodily outline\n",
    "                file_path = os.path.normpath(os.path.join(file_path, os.pardir))\n",
    "                cyan_drawing, red_drawing = drawings\n",
    "                cv2.imwrite(file_path+\"/cyan/scaled/\"+file, compress(cyan_drawing, (112, 112)))\n",
    "                cv2.imwrite(file_path+\"/red/scaled/\"+file, compress(red_drawing, (112, 112)))"
   ]
  },
  {
   "cell_type": "code",
   "execution_count": 43,
   "metadata": {},
   "outputs": [
    {
     "name": "stdout",
     "output_type": "stream",
     "text": [
      "Outi\n",
      "Zjana\n",
      "Simona\n",
      "Juan\n",
      "Ella\n",
      "Eleonora\n",
      "Hanna\n",
      "Einav\n",
      "Kadri\n",
      "Sylvia\n"
     ]
    }
   ],
   "source": [
    "import os\n",
    "import numpy as np\n",
    "import imageio\n",
    "import imgaug as ia\n",
    "from imgaug import augmenters as iaa\n",
    "ia.seed(4)\n",
    "%matplotlib inline\n",
    "\n",
    "excluded = set([\".mayaSwatches\", \".ipynb_checkpoints\", \"unprocessed\", \"cyan\", \"red\", \"scaled\"])\n",
    "\n",
    "for path, subdirs, files, in os.walk(img_directory, topdown=True):\n",
    "    for subdir in [s for s in subdirs if s not in excluded]:\n",
    "        print(\"Reading from foler: \" + subdir)\n",
    "        for path, subdirs, files, in os.walk(img_directory+subdir+\"/unprocessed\"):\n",
    "            for file in files:\n",
    "# drawings = []\n",
    "# for path, subdirs, files, in os.walk('../../sketch_dataset_2/'):\n",
    "#     for file in files:\n",
    "#         file_path = os.path.join(path,file)\n",
    "#         if ('.DS_Store' not in file_path and 'out' not in file_path):\n",
    "#             drawings.append(imageio.imread(file_path))"
   ]
  },
  {
   "cell_type": "code",
   "execution_count": 3,
   "metadata": {},
   "outputs": [],
   "source": [
    "images = [cv2.imread(file) for file in glob.glob('data/img/Juan/*png')]\n",
    "for img in images:\n",
    "    tmp = cv2.cvtColor(img, cv2.COLOR_BGR2GRAY)\n",
    "    _,alpha = cv2.threshold(tmp,0,255,cv2.THRESH_BINARY)\n",
    "    b, g, r = cv2.split(img)\n",
    "    rgba = [b,g,r, alpha]\n",
    "    dst = cv2.merge(rgba,4)\n",
    "    cv2.imwrite(\"test.png\", dst)"
   ]
  },
  {
   "cell_type": "code",
   "execution_count": 8,
   "metadata": {},
   "outputs": [],
   "source": [
    "filelist=glob.glob(\"sketch_dataset/*.png\")\n",
    "for file in filelist:\n",
    "    os.remove(file)"
   ]
  },
  {
   "cell_type": "code",
   "execution_count": 20,
   "metadata": {},
   "outputs": [
    {
     "name": "stdout",
     "output_type": "stream",
     "text": [
      "['../output/tests/result3/step_0.png', '../output/tests/result3/step_1.png', '../output/tests/result3/step_10.png', '../output/tests/result3/step_11.png', '../output/tests/result3/step_12.png', '../output/tests/result3/step_13.png', '../output/tests/result3/step_14.png', '../output/tests/result3/step_15.png', '../output/tests/result3/step_16.png', '../output/tests/result3/step_17.png', '../output/tests/result3/step_18.png', '../output/tests/result3/step_19.png', '../output/tests/result3/step_2.png', '../output/tests/result3/step_20.png', '../output/tests/result3/step_21.png', '../output/tests/result3/step_22.png', '../output/tests/result3/step_23.png', '../output/tests/result3/step_24.png', '../output/tests/result3/step_3.png', '../output/tests/result3/step_4.png', '../output/tests/result3/step_5.png', '../output/tests/result3/step_6.png', '../output/tests/result3/step_7.png', '../output/tests/result3/step_8.png', '../output/tests/result3/step_9.png']\n"
     ]
    }
   ],
   "source": [
    "from imutils import paths\n",
    "def create_gif(inputPath, outputPath, delay, finalDelay, loop):\n",
    "    # grab all image paths in the input directory\n",
    "    imagePaths = sorted(list(paths.list_images(inputPath)))\n",
    "    print(imagePaths)\n",
    "\n",
    "    # remove the last image path in the list\n",
    "    lastPath = imagePaths[-1]\n",
    "    imagePaths = imagePaths[:-1]\n",
    "\n",
    "    # construct the image magick 'convert' command that will be used\n",
    "    # generate our output GIF, giving a larger delay to the final\n",
    "    # frame (if so desired)\n",
    "    cmd = \"convert -delay {} {} -delay {} {} -loop {} {}\".format(\n",
    "        delay, \" \".join(imagePaths), finalDelay, lastPath, loop,\n",
    "        outputPath)\n",
    "    os.system(cmd)\n",
    "\n",
    "create_gif(\"../output/tests/result3\", \"../output/new.gif\", 0, 0, 0)"
   ]
  },
  {
   "cell_type": "code",
   "execution_count": 24,
   "metadata": {},
   "outputs": [
    {
     "data": {
      "text/plain": [
       "True"
      ]
     },
     "execution_count": 24,
     "metadata": {},
     "output_type": "execute_result"
    }
   ],
   "source": []
  },
  {
   "cell_type": "code",
   "execution_count": null,
   "metadata": {},
   "outputs": [],
   "source": []
  }
 ],
 "metadata": {
  "kernelspec": {
   "display_name": "Python 3",
   "language": "python",
   "name": "python3"
  },
  "language_info": {
   "codemirror_mode": {
    "name": "ipython",
    "version": 3
   },
   "file_extension": ".py",
   "mimetype": "text/x-python",
   "name": "python",
   "nbconvert_exporter": "python",
   "pygments_lexer": "ipython3",
   "version": "3.6.6"
  }
 },
 "nbformat": 4,
 "nbformat_minor": 2
}
