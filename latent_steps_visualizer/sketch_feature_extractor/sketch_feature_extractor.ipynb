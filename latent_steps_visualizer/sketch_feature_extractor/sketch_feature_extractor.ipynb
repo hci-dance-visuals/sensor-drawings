{
 "cells": [
  {
   "cell_type": "code",
   "execution_count": 7,
   "metadata": {},
   "outputs": [],
   "source": [
    "import os, sys, glob\n",
    "import cv2\n",
    "import numpy as np\n",
    "import matplotlib.pyplot as plt\n",
    "from pdf2image import convert_from_path\n",
    "from image_processing_tools import *\n",
    "%matplotlib notebook"
   ]
  },
  {
   "cell_type": "markdown",
   "metadata": {},
   "source": [
    "### Extract Images from PDF Library"
   ]
  },
  {
   "cell_type": "code",
   "execution_count": 2,
   "metadata": {},
   "outputs": [
    {
     "ename": "NameError",
     "evalue": "name 'pdf_directory' is not defined",
     "output_type": "error",
     "traceback": [
      "\u001b[0;31m---------------------------------------------------------------------------\u001b[0m",
      "\u001b[0;31mNameError\u001b[0m                                 Traceback (most recent call last)",
      "\u001b[0;32m<ipython-input-2-a751fe03cac4>\u001b[0m in \u001b[0;36m<module>\u001b[0;34m()\u001b[0m\n\u001b[1;32m      2\u001b[0m \u001b[0mextraction_progress\u001b[0m \u001b[0;34m=\u001b[0m \u001b[0;36m1\u001b[0m\u001b[0;34m\u001b[0m\u001b[0m\n\u001b[1;32m      3\u001b[0m \u001b[0mmake_png\u001b[0m \u001b[0;34m=\u001b[0m \u001b[0mFalse\u001b[0m\u001b[0;34m\u001b[0m\u001b[0m\n\u001b[0;32m----> 4\u001b[0;31m \u001b[0;32mfor\u001b[0m \u001b[0mpath\u001b[0m\u001b[0;34m,\u001b[0m \u001b[0msubdirs\u001b[0m\u001b[0;34m,\u001b[0m \u001b[0mfiles\u001b[0m\u001b[0;34m,\u001b[0m \u001b[0;32min\u001b[0m \u001b[0mos\u001b[0m\u001b[0;34m.\u001b[0m\u001b[0mwalk\u001b[0m\u001b[0;34m(\u001b[0m\u001b[0mpdf_directory\u001b[0m\u001b[0;34m)\u001b[0m\u001b[0;34m:\u001b[0m\u001b[0;34m\u001b[0m\u001b[0m\n\u001b[0m\u001b[1;32m      5\u001b[0m     \u001b[0;32mfor\u001b[0m \u001b[0mfile\u001b[0m \u001b[0;32min\u001b[0m \u001b[0mfiles\u001b[0m\u001b[0;34m:\u001b[0m\u001b[0;34m\u001b[0m\u001b[0m\n\u001b[1;32m      6\u001b[0m         \u001b[0;32mtry\u001b[0m\u001b[0;34m:\u001b[0m\u001b[0;34m\u001b[0m\u001b[0m\n",
      "\u001b[0;31mNameError\u001b[0m: name 'pdf_directory' is not defined"
     ]
    }
   ],
   "source": [
    "excluded = [\".ipynb_checkpoints\", \"unprocessed\"]\n",
    "extraction_progress = 1\n",
    "make_png = False\n",
    "for path, subdirs, files, in os.walk(pdf_directory):\n",
    "    for file in files:\n",
    "        try:\n",
    "            names.append(file.split('.')[0])\n",
    "            file_path = os.path.join(path,file)\n",
    "            new_performer_data(base_name(file_path))\n",
    "            ##split pdf file into pages\n",
    "            if (make_png):\n",
    "                pages = convert_from_path(file_path)\n",
    "                page_num = 0\n",
    "                for page in pages:\n",
    "                    page.save(img_directory + base_name(file_path) + \"/unprocessed/\" + str(page_num) + \".png\", 'PNG')\n",
    "                    page_num += 1\n",
    "                    extraction_progress = update_progress(extraction_progress, len(pages)*len(files), \"extracting images from pdf files\")\n",
    "                page_num = 0\n",
    "        except Exception as e:\n",
    "            print (e)\n",
    "            pass\n",
    "print(\"extraction complete\")"
   ]
  },
  {
   "cell_type": "markdown",
   "metadata": {},
   "source": [
    "### Crop images around human figure"
   ]
  },
  {
   "cell_type": "code",
   "execution_count": 9,
   "metadata": {},
   "outputs": [
    {
     "name": "stdout",
     "output_type": "stream",
     "text": [
      "Rading from foler: Zjana\n",
      "Rading from foler: Ella\n",
      "Rading from foler: Eleonora\n",
      "Rading from foler: Einav\n",
      "Rading from foler: Outi\n",
      "Rading from foler: Juan\n",
      "Rading from foler: Hanna\n",
      "Rading from foler: Kadri\n",
      "Rading from foler: Simona\n",
      "Rading from foler: Sylvia\n"
     ]
    }
   ],
   "source": [
    "excluded = [\".ipynb_checkpoints\", \"unprocessed\", \"cyan\", \"red\", \"scaled\"]\n",
    "names = []\n",
    "\n",
    "# list of colour boundaries\n",
    "boundaries = [\n",
    "\t([70, 0, 100, 0], [100, 255,255, 255]),\n",
    "\t([0, 50, 0, 0], [70, 255,255, 255])\n",
    "]\n",
    "\n",
    "for path, subdirs, files, in os.walk(img_directory):\n",
    "    for subdir in subdirs:\n",
    "        if any(ex in subdir for ex in excluded):\n",
    "            continue\n",
    "        names.append(subdir)\n",
    "        print(\"Rading from foler: \" + subdir)\n",
    "        for path, subdirs, files, in os.walk(img_directory+subdir+\"/unprocessed\"):\n",
    "            for file in files:\n",
    "                drawings = []\n",
    "                file_path = os.path.join(path,file)\n",
    "                img = cv2.imread(file_path)\n",
    "                #fill space around manikin, in top-left corner and top\n",
    "                img = add_whitespace(img, 0, 0, 700, 450)\n",
    "                img = add_whitespace(img, 0, 0, img.shape[0],200)\n",
    "                #crop around manikin\n",
    "                cropped_img = crop_heatmap(img, 0)\n",
    "                file_path = os.path.join(os.path.normpath(os.path.join(path, os.pardir)),file)\n",
    "                cv2.imwrite(file_path, cropped_img)\n",
    "                \n",
    "                ## convert to hsv\n",
    "                hsv = cv2.cvtColor(cropped_img, cv2.COLOR_BGR2HSV)\n",
    "                # loop over the boundaries\n",
    "                for lower_bound, upper_bound in boundaries:\n",
    "                    drawings.append(extract_drawing(cropped_img, hsv, tuple(lower_bound), tuple(upper_bound)))\n",
    "                ## separate masking of cyan and red + ## filter bodily outline\n",
    "                file_path = os.path.normpath(os.path.join(file_path, os.pardir))\n",
    "                cyan_drawing, red_drawing = drawings\n",
    "                cv2.imwrite(file_path+\"/cyan/scaled/\"+file, compress(cyan_drawing, (112, 112)))\n",
    "                cv2.imwrite(file_path+\"/red/scaled/\"+file, compress(red_drawing, (112, 112)))"
   ]
  },
  {
   "cell_type": "code",
   "execution_count": 16,
   "metadata": {},
   "outputs": [],
   "source": [
    "images = [cv2.imread(file) for file in glob.glob('data/img/Juan/*png')]\n",
    "for img in images:\n",
    "    tmp = cv2.cvtColor(img, cv2.COLOR_BGR2GRAY)\n",
    "    _,alpha = cv2.threshold(tmp,0,255,cv2.THRESH_BINARY)\n",
    "    b, g, r = cv2.split(img)\n",
    "    rgba = [b,g,r, alpha]\n",
    "    dst = cv2.merge(rgba,4)\n",
    "    cv2.imwrite(\"test.png\", dst)"
   ]
  },
  {
   "cell_type": "code",
   "execution_count": 8,
   "metadata": {},
   "outputs": [],
   "source": [
    "filelist=glob.glob(\"sketch_dataset/*.png\")\n",
    "for file in filelist:\n",
    "    os.remove(file)"
   ]
  },
  {
   "cell_type": "code",
   "execution_count": 20,
   "metadata": {},
   "outputs": [
    {
     "name": "stdout",
     "output_type": "stream",
     "text": [
      "['../output/tests/result3/step_0.png', '../output/tests/result3/step_1.png', '../output/tests/result3/step_10.png', '../output/tests/result3/step_11.png', '../output/tests/result3/step_12.png', '../output/tests/result3/step_13.png', '../output/tests/result3/step_14.png', '../output/tests/result3/step_15.png', '../output/tests/result3/step_16.png', '../output/tests/result3/step_17.png', '../output/tests/result3/step_18.png', '../output/tests/result3/step_19.png', '../output/tests/result3/step_2.png', '../output/tests/result3/step_20.png', '../output/tests/result3/step_21.png', '../output/tests/result3/step_22.png', '../output/tests/result3/step_23.png', '../output/tests/result3/step_24.png', '../output/tests/result3/step_3.png', '../output/tests/result3/step_4.png', '../output/tests/result3/step_5.png', '../output/tests/result3/step_6.png', '../output/tests/result3/step_7.png', '../output/tests/result3/step_8.png', '../output/tests/result3/step_9.png']\n"
     ]
    }
   ],
   "source": [
    "from imutils import paths\n",
    "def create_gif(inputPath, outputPath, delay, finalDelay, loop):\n",
    "    # grab all image paths in the input directory\n",
    "    imagePaths = sorted(list(paths.list_images(inputPath)))\n",
    "    print(imagePaths)\n",
    "\n",
    "    # remove the last image path in the list\n",
    "    lastPath = imagePaths[-1]\n",
    "    imagePaths = imagePaths[:-1]\n",
    "\n",
    "    # construct the image magick 'convert' command that will be used\n",
    "    # generate our output GIF, giving a larger delay to the final\n",
    "    # frame (if so desired)\n",
    "    cmd = \"convert -delay {} {} -delay {} {} -loop {} {}\".format(\n",
    "        delay, \" \".join(imagePaths), finalDelay, lastPath, loop,\n",
    "        outputPath)\n",
    "    os.system(cmd)\n",
    "\n",
    "create_gif(\"../output/tests/result3\", \"../output/new.gif\", 0, 0, 0)"
   ]
  },
  {
   "cell_type": "code",
   "execution_count": 24,
   "metadata": {},
   "outputs": [
    {
     "data": {
      "text/plain": [
       "True"
      ]
     },
     "execution_count": 24,
     "metadata": {},
     "output_type": "execute_result"
    }
   ],
   "source": []
  },
  {
   "cell_type": "code",
   "execution_count": null,
   "metadata": {},
   "outputs": [],
   "source": []
  }
 ],
 "metadata": {
  "kernelspec": {
   "display_name": "Python 2",
   "language": "python",
   "name": "python2"
  },
  "language_info": {
   "codemirror_mode": {
    "name": "ipython",
    "version": 2
   },
   "file_extension": ".py",
   "mimetype": "text/x-python",
   "name": "python",
   "nbconvert_exporter": "python",
   "pygments_lexer": "ipython2",
   "version": "2.7.16"
  }
 },
 "nbformat": 4,
 "nbformat_minor": 2
}
