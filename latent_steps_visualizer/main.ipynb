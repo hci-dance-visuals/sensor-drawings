{
 "cells": [
  {
   "cell_type": "code",
   "execution_count": null,
   "metadata": {},
   "outputs": [],
   "source": [
    "import sys, os\n",
    "import time\n",
    "from config import latent_dim, modelsPath, imageSize\n",
    "from keras.optimizers import RMSprop\n",
    "from model import getModels\n",
    "from visuals import visualizeDataset, visualizeReconstructedImages, computeTSNEProjectionOfLatentSpace, computeTSNEProjectionOfPixelSpace, visualizeInterpolation, visualizeArithmetics\n",
    "from datasetTools import loadDataset\n",
    "import numpy as np\n",
    "import tensorflow as tf\n",
    "from random import randint"
   ]
  },
  {
   "cell_type": "code",
   "execution_count": null,
   "metadata": {},
   "outputs": [],
   "source": [
    "# Handy parameters\n",
    "nbEpoch = 20\n",
    "batchSize = 256\n",
    "modelName = \"autoencoder_mnist.h5\"\n",
    "\n",
    "#Run ID for tensorboard, timestamp is for ordering\n",
    "runID = \"{} - Autoencoder - MNIST\".format(1./time.time())\n",
    "\n",
    "# Returns the string of remaining training time\n",
    "def getETA(batchTime, nbBatch, batchIndex, nbEpoch, epoch):\n",
    "    seconds = int(batchTime*(nbBatch-batchIndex-1) + batchTime*nbBatch*(nbEpoch-epoch-1))\n",
    "    m, s = divmod(seconds, 60)\n",
    "    h, m = divmod(m, 60)\n",
    "    return \"%d:%02d:%02d\"%(h,m,s)"
   ]
  },
  {
   "cell_type": "code",
   "execution_count": null,
   "metadata": {},
   "outputs": [],
   "source": [
    "dataset_directory =  \"sketch_feature_extractor/sketch_dataset/\"\n",
    "X_train = np.zeros(199, 28, 28)\n",
    "for path, subdirs, files, in os.walk(dataset_directory):\n",
    "    for file in files:\n",
    "        print(file)"
   ]
  },
  {
   "cell_type": "code",
   "execution_count": null,
   "metadata": {},
   "outputs": [],
   "source": []
  }
 ],
 "metadata": {
  "kernelspec": {
   "display_name": "Python 3",
   "language": "python",
   "name": "python3"
  },
  "language_info": {
   "codemirror_mode": {
    "name": "ipython",
    "version": 3
   },
   "file_extension": ".py",
   "mimetype": "text/x-python",
   "name": "python",
   "nbconvert_exporter": "python",
   "pygments_lexer": "ipython3",
   "version": "3.7.1"
  }
 },
 "nbformat": 4,
 "nbformat_minor": 2
}
